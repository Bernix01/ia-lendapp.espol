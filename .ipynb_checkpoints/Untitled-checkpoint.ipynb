{
 "cells": [
  {
   "cell_type": "code",
   "execution_count": null,
   "metadata": {},
   "outputs": [],
   "source": [
    "%load_ext tensorboard\n",
    "import tensorflow as tf\n",
    "import numpy as np\n",
    "import pandas as pd\n",
    "from tensorflow import keras\n",
    "from tensorflow.keras import layers\n",
    "import datetime"
   ]
  },
  {
   "cell_type": "code",
   "execution_count": null,
   "metadata": {},
   "outputs": [],
   "source": [
    "file_url = \"input_data.csv\"\n",
    "dataframe = pd.read_csv(file_url, dtype= {\n",
    "'loan_amnt': np.float32,\n",
    "'index': int,\n",
    "'term' : str, \n",
    "'installment' : np.float32,\n",
    "'emp_title' : 'str', \n",
    "'purpose' : 'str', \n",
    "'title' : 'str', \n",
    "'dti' : np.float32,\n",
    "'collections_12_mths_ex_med' : np.float32,\n",
    "'application_type' : 'str', \n",
    "'tot_coll_amt' : np.float32,\n",
    "'tot_cur_bal' : np.float32,\n",
    "'open_acc_6m' : np.float32,\n",
    "'open_act_il' : np.float32,\n",
    "'open_il_12m' : np.float32,\n",
    "'open_il_24m' : np.float32,\n",
    "'mths_since_rcnt_il' : np.float32,\n",
    "'total_bal_il' : np.float32,\n",
    "'open_rv_12m' : np.float32,\n",
    "'open_rv_24m' : np.float32,\n",
    "'max_bal_bc' : np.float32,\n",
    "'all_util' : np.float32,\n",
    "'inq_fi' : np.float32,\n",
    "'total_cu_tl' : np.float32,\n",
    "'inq_last_12m' : np.float32,\n",
    "'avg_cur_bal' : np.float32,\n",
    "'chargeoff_within_12_mths' : np.float32,\n",
    "'mo_sin_old_rev_tl_op' : np.float32,\n",
    "'mo_sin_rcnt_rev_tl_op' : np.float32,\n",
    "'mo_sin_rcnt_tl' : np.float32,\n",
    "'num_accts_ever_120_pd' : np.float32,\n",
    "'num_actv_bc_tl' : np.float32,\n",
    "'num_actv_rev_tl' : np.float32,\n",
    "'num_bc_sats' : np.float32,\n",
    "'num_bc_tl' : np.float32,\n",
    "'num_il_tl' : np.float32,\n",
    "'num_op_rev_tl' : np.float32,\n",
    "'num_rev_accts' : np.float32,\n",
    "'num_rev_tl_bal_gt_0' : np.float32,\n",
    "'num_sats' : np.float32,\n",
    "'num_tl_120dpd_2m' : np.float32,\n",
    "'num_tl_30dpd' : np.float32,\n",
    "'num_tl_90g_dpd_24m' : np.float32,\n",
    "'num_tl_op_past_12m' : np.float32,\n",
    "'pct_tl_nvr_dlq' : np.float32,\n",
    "'pub_rec_bankruptcies' : np.float32,\n",
    "'tax_liens' : np.float32,\n",
    "'tot_hi_cred_lim' : np.float32,\n",
    "'total_il_high_credit_limit' : np.float32,\n",
    "'disbursement_method' : 'str', \n",
    "'is_risky' : np.int32,\n",
    "    })\n",
    "dataframe.set_index(\"index\", inplace=True)\n",
    "dataframe.dropna(inplace=True)\n",
    "dataframe.reset_index(drop=True,inplace=True)"
   ]
  },
  {
   "cell_type": "code",
   "execution_count": null,
   "metadata": {},
   "outputs": [],
   "source": [
    "to_int_cols = ['chargeoff_within_12_mths', 'num_tl_120dpd_2m', 'num_tl_30dpd', 'pub_rec_bankruptcies']\n",
    "dataframe[to_int_cols] = dataframe[to_int_cols].astype(np.int32)"
   ]
  },
  {
   "cell_type": "code",
   "execution_count": null,
   "metadata": {},
   "outputs": [],
   "source": [
    "features = [\n",
    "     \"application_type\",\n",
    "     \"num_tl_120dpd_2m\",\n",
    "     \"num_tl_30dpd\",\n",
    "     \"num_tl_90g_dpd_24m\",\n",
    "     \"num_tl_op_past_12m\",\n",
    "     \"pub_rec_bankruptcies\",\n",
    "     \"term\",\n",
    "     \"loan_amnt\",\n",
    "     \"avg_cur_bal\",\n",
    "     \"dti\",\n",
    "     \"installment\",\n",
    "     \"purpose\",\n",
    "]\n",
    "\n",
    "dataframe = dataframe[features].copy()"
   ]
  },
  {
   "cell_type": "code",
   "execution_count": null,
   "metadata": {},
   "outputs": [],
   "source": [
    "dataframe.describe()"
   ]
  },
  {
   "cell_type": "code",
   "execution_count": null,
   "metadata": {},
   "outputs": [],
   "source": []
  }
 ],
 "metadata": {
  "kernelspec": {
   "display_name": "ia",
   "language": "python",
   "name": "ia"
  },
  "language_info": {
   "codemirror_mode": {
    "name": "ipython",
    "version": 3
   },
   "file_extension": ".py",
   "mimetype": "text/x-python",
   "name": "python",
   "nbconvert_exporter": "python",
   "pygments_lexer": "ipython3",
   "version": "3.8.5"
  }
 },
 "nbformat": 4,
 "nbformat_minor": 4
}
