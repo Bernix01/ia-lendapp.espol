{
 "cells": [
  {
   "cell_type": "code",
   "execution_count": 44,
   "metadata": {},
   "outputs": [
    {
     "name": "stdout",
     "output_type": "stream",
     "text": [
      "env: KERAS_BACKEND=plaidml.keras.backend\n",
      "env: PLAIDML_NATIVE_PATH=/usr/local/lib/libplaidml.dylib\n",
      "env: RUNFILES_DIR=/usr/local/share/plaidml\n",
      "env: PLAIDML_USE_STRIPE=1\n",
      "The tensorboard extension is already loaded. To reload it, use:\n",
      "  %reload_ext tensorboard\n"
     ]
    }
   ],
   "source": [
    "%env KERAS_BACKEND=plaidml.keras.backend\n",
    "%env PLAIDML_NATIVE_PATH=/usr/local/lib/libplaidml.dylib\n",
    "%env RUNFILES_DIR=/usr/local/share/plaidml\n",
    "%env PLAIDML_USE_STRIPE=1\n",
    "%load_ext tensorboard"
   ]
  },
  {
   "cell_type": "code",
   "execution_count": 45,
   "metadata": {},
   "outputs": [
    {
     "name": "stdout",
     "output_type": "stream",
     "text": [
      "Requirement already satisfied: keras==2.2.4 in ./ia/lib/python3.8/site-packages (2.2.4)\n",
      "Requirement already satisfied: plaidml in ./ia/lib/python3.8/site-packages (0.7.0)\n",
      "Requirement already satisfied: tensorflow in ./ia/lib/python3.8/site-packages (2.3.0)\n",
      "Requirement already satisfied: plaidml-keras in ./ia/lib/python3.8/site-packages (0.7.0)\n",
      "Requirement already satisfied: h5py in ./ia/lib/python3.8/site-packages (from keras==2.2.4) (2.10.0)\n",
      "Requirement already satisfied: six>=1.9.0 in ./ia/lib/python3.8/site-packages (from keras==2.2.4) (1.15.0)\n",
      "Requirement already satisfied: scipy>=0.14 in ./ia/lib/python3.8/site-packages (from keras==2.2.4) (1.4.1)\n",
      "Requirement already satisfied: keras-preprocessing>=1.0.5 in ./ia/lib/python3.8/site-packages (from keras==2.2.4) (1.1.2)\n",
      "Requirement already satisfied: pyyaml in ./ia/lib/python3.8/site-packages (from keras==2.2.4) (5.3.1)\n",
      "Requirement already satisfied: numpy>=1.9.1 in ./ia/lib/python3.8/site-packages (from keras==2.2.4) (1.18.5)\n",
      "Requirement already satisfied: keras-applications>=1.0.6 in ./ia/lib/python3.8/site-packages (from keras==2.2.4) (1.0.8)\n",
      "Requirement already satisfied: enum34>=1.1.6 in ./ia/lib/python3.8/site-packages (from plaidml) (1.1.10)\n",
      "Requirement already satisfied: cffi in ./ia/lib/python3.8/site-packages (from plaidml) (1.14.2)\n",
      "Requirement already satisfied: absl-py>=0.7.0 in ./ia/lib/python3.8/site-packages (from tensorflow) (0.10.0)\n",
      "Requirement already satisfied: protobuf>=3.9.2 in ./ia/lib/python3.8/site-packages (from tensorflow) (3.13.0)\n",
      "Requirement already satisfied: opt-einsum>=2.3.2 in ./ia/lib/python3.8/site-packages (from tensorflow) (3.3.0)\n",
      "Requirement already satisfied: termcolor>=1.1.0 in ./ia/lib/python3.8/site-packages (from tensorflow) (1.1.0)\n",
      "Requirement already satisfied: grpcio>=1.8.6 in ./ia/lib/python3.8/site-packages (from tensorflow) (1.31.0)\n",
      "Requirement already satisfied: gast==0.3.3 in ./ia/lib/python3.8/site-packages (from tensorflow) (0.3.3)\n",
      "Requirement already satisfied: google-pasta>=0.1.8 in ./ia/lib/python3.8/site-packages (from tensorflow) (0.2.0)\n",
      "Requirement already satisfied: tensorflow-estimator<2.4.0,>=2.3.0 in ./ia/lib/python3.8/site-packages (from tensorflow) (2.3.0)\n",
      "Requirement already satisfied: wrapt>=1.11.1 in ./ia/lib/python3.8/site-packages (from tensorflow) (1.12.1)\n",
      "Requirement already satisfied: tensorboard<3,>=2.3.0 in ./ia/lib/python3.8/site-packages (from tensorflow) (2.3.0)\n",
      "Requirement already satisfied: wheel>=0.26 in ./ia/lib/python3.8/site-packages (from tensorflow) (0.35.1)\n",
      "Requirement already satisfied: astunparse==1.6.3 in ./ia/lib/python3.8/site-packages (from tensorflow) (1.6.3)\n",
      "Requirement already satisfied: pycparser in ./ia/lib/python3.8/site-packages (from cffi->plaidml) (2.20)\n",
      "Requirement already satisfied: setuptools in ./ia/lib/python3.8/site-packages (from protobuf>=3.9.2->tensorflow) (47.1.0)\n",
      "Requirement already satisfied: google-auth<2,>=1.6.3 in ./ia/lib/python3.8/site-packages (from tensorboard<3,>=2.3.0->tensorflow) (1.21.0)\n",
      "Requirement already satisfied: markdown>=2.6.8 in ./ia/lib/python3.8/site-packages (from tensorboard<3,>=2.3.0->tensorflow) (3.2.2)\n",
      "Requirement already satisfied: google-auth-oauthlib<0.5,>=0.4.1 in ./ia/lib/python3.8/site-packages (from tensorboard<3,>=2.3.0->tensorflow) (0.4.1)\n",
      "Requirement already satisfied: werkzeug>=0.11.15 in ./ia/lib/python3.8/site-packages (from tensorboard<3,>=2.3.0->tensorflow) (1.0.1)\n",
      "Requirement already satisfied: tensorboard-plugin-wit>=1.6.0 in ./ia/lib/python3.8/site-packages (from tensorboard<3,>=2.3.0->tensorflow) (1.7.0)\n",
      "Requirement already satisfied: requests<3,>=2.21.0 in ./ia/lib/python3.8/site-packages (from tensorboard<3,>=2.3.0->tensorflow) (2.24.0)\n",
      "Requirement already satisfied: rsa<5,>=3.1.4; python_version >= \"3.5\" in ./ia/lib/python3.8/site-packages (from google-auth<2,>=1.6.3->tensorboard<3,>=2.3.0->tensorflow) (4.6)\n",
      "Requirement already satisfied: pyasn1-modules>=0.2.1 in ./ia/lib/python3.8/site-packages (from google-auth<2,>=1.6.3->tensorboard<3,>=2.3.0->tensorflow) (0.2.8)\n",
      "Requirement already satisfied: cachetools<5.0,>=2.0.0 in ./ia/lib/python3.8/site-packages (from google-auth<2,>=1.6.3->tensorboard<3,>=2.3.0->tensorflow) (4.1.1)\n",
      "Requirement already satisfied: requests-oauthlib>=0.7.0 in ./ia/lib/python3.8/site-packages (from google-auth-oauthlib<0.5,>=0.4.1->tensorboard<3,>=2.3.0->tensorflow) (1.3.0)\n",
      "Requirement already satisfied: chardet<4,>=3.0.2 in ./ia/lib/python3.8/site-packages (from requests<3,>=2.21.0->tensorboard<3,>=2.3.0->tensorflow) (3.0.4)\n",
      "Requirement already satisfied: idna<3,>=2.5 in ./ia/lib/python3.8/site-packages (from requests<3,>=2.21.0->tensorboard<3,>=2.3.0->tensorflow) (2.10)\n",
      "Requirement already satisfied: certifi>=2017.4.17 in ./ia/lib/python3.8/site-packages (from requests<3,>=2.21.0->tensorboard<3,>=2.3.0->tensorflow) (2020.6.20)\n",
      "Requirement already satisfied: urllib3!=1.25.0,!=1.25.1,<1.26,>=1.21.1 in ./ia/lib/python3.8/site-packages (from requests<3,>=2.21.0->tensorboard<3,>=2.3.0->tensorflow) (1.25.10)\n",
      "Requirement already satisfied: pyasn1>=0.1.3 in ./ia/lib/python3.8/site-packages (from rsa<5,>=3.1.4; python_version >= \"3.5\"->google-auth<2,>=1.6.3->tensorboard<3,>=2.3.0->tensorflow) (0.4.8)\n",
      "Requirement already satisfied: oauthlib>=3.0.0 in ./ia/lib/python3.8/site-packages (from requests-oauthlib>=0.7.0->google-auth-oauthlib<0.5,>=0.4.1->tensorboard<3,>=2.3.0->tensorflow) (3.1.0)\n",
      "Note: you may need to restart the kernel to use updated packages.\n"
     ]
    }
   ],
   "source": [
    "pip install keras==2.2.4 plaidml tensorflow plaidml-keras"
   ]
  },
  {
   "cell_type": "code",
   "execution_count": 46,
   "metadata": {},
   "outputs": [],
   "source": [
    "import pandas as pd\n",
    "import numpy as np\n",
    "import keras\n",
    "import datetime"
   ]
  },
  {
   "cell_type": "code",
   "execution_count": 47,
   "metadata": {},
   "outputs": [],
   "source": [
    "file_url = \"input_data.csv\"\n",
    "dataframe = pd.read_csv(file_url, dtype= {\n",
    "'index': int,\n",
    "'term' : str, \n",
    "'installment' : np.float32,\n",
    "'loan_amnt' : np.float32,\n",
    "'emp_title' : 'str', \n",
    "'purpose' : 'str', \n",
    "'title' : 'str', \n",
    "'dti' : np.float32,\n",
    "'collections_12_mths_ex_med' : np.float32,\n",
    "'application_type' : 'str', \n",
    "'tot_coll_amt' : np.float32,\n",
    "'tot_cur_bal' : np.float32,\n",
    "'open_acc_6m' : np.float32,\n",
    "'open_act_il' : np.float32,\n",
    "'open_il_12m' : np.float32,\n",
    "'open_il_24m' : np.float32,\n",
    "'mths_since_rcnt_il' : np.float32,\n",
    "'total_bal_il' : np.float32,\n",
    "'open_rv_12m' : np.float32,\n",
    "'open_rv_24m' : np.float32,\n",
    "'max_bal_bc' : np.float32,\n",
    "'all_util' : np.float32,\n",
    "'inq_fi' : np.float32,\n",
    "'total_cu_tl' : np.float32,\n",
    "'inq_last_12m' : np.float32,\n",
    "'avg_cur_bal' : np.float32,\n",
    "'chargeoff_within_12_mths' : np.float32,\n",
    "'mo_sin_old_rev_tl_op' : np.float32,\n",
    "'mo_sin_rcnt_rev_tl_op' : np.float32,\n",
    "'mo_sin_rcnt_tl' : np.float32,\n",
    "'num_accts_ever_120_pd' : 'str',\n",
    "'num_actv_bc_tl' : np.float32,\n",
    "'num_actv_rev_tl' : np.float32,\n",
    "'num_bc_sats' : np.float32,\n",
    "'num_bc_tl' : np.float32,\n",
    "'num_il_tl' : np.float32,\n",
    "'num_op_rev_tl' : np.float32,\n",
    "'num_rev_accts' : np.float32,\n",
    "'num_rev_tl_bal_gt_0' : np.float32,\n",
    "'num_sats' : np.float32,\n",
    "'num_tl_120dpd_2m' : np.float32,\n",
    "'num_tl_30dpd' : np.float32,\n",
    "'num_tl_90g_dpd_24m' : np.float32,\n",
    "'num_tl_op_past_12m' : np.float32,\n",
    "'pct_tl_nvr_dlq' : np.float32,\n",
    "'pub_rec_bankruptcies' : np.float32,\n",
    "'tax_liens' : np.float32,\n",
    "'tot_hi_cred_lim' : np.float32,\n",
    "'total_il_high_credit_limit' : np.float32,\n",
    "'disbursement_method' : 'str', \n",
    "'is_risky' : np.int32,\n",
    "    })\n",
    "dataframe.set_index(\"index\", inplace=True)\n",
    "dataframe.dropna(inplace=True)\n",
    "dataframe.reset_index(drop=True,inplace=True)"
   ]
  },
  {
   "cell_type": "code",
   "execution_count": 48,
   "metadata": {},
   "outputs": [],
   "source": [
    "to_int_cols = ['chargeoff_within_12_mths', 'num_tl_120dpd_2m', 'num_tl_30dpd', 'pub_rec_bankruptcies']\n",
    "dataframe[to_int_cols] = dataframe[to_int_cols].astype(np.int32)"
   ]
  },
  {
   "cell_type": "code",
   "execution_count": 49,
   "metadata": {},
   "outputs": [
    {
     "data": {
      "text/plain": [
       "(1172538, 50)"
      ]
     },
     "execution_count": 49,
     "metadata": {},
     "output_type": "execute_result"
    }
   ],
   "source": [
    "dataframe.shape"
   ]
  },
  {
   "cell_type": "code",
   "execution_count": 50,
   "metadata": {},
   "outputs": [
    {
     "name": "stdout",
     "output_type": "stream",
     "text": [
      "<class 'pandas.core.frame.DataFrame'>\n",
      "RangeIndex: 1172538 entries, 0 to 1172537\n",
      "Data columns (total 50 columns):\n",
      " #   Column                      Non-Null Count    Dtype  \n",
      "---  ------                      --------------    -----  \n",
      " 0   loan_amnt                   1172538 non-null  float32\n",
      " 1   term                        1172538 non-null  object \n",
      " 2   installment                 1172538 non-null  float32\n",
      " 3   emp_title                   1172538 non-null  object \n",
      " 4   purpose                     1172538 non-null  object \n",
      " 5   title                       1172538 non-null  object \n",
      " 6   dti                         1172538 non-null  float32\n",
      " 7   collections_12_mths_ex_med  1172538 non-null  float32\n",
      " 8   application_type            1172538 non-null  object \n",
      " 9   tot_coll_amt                1172538 non-null  float32\n",
      " 10  tot_cur_bal                 1172538 non-null  float32\n",
      " 11  open_acc_6m                 1172538 non-null  float32\n",
      " 12  open_act_il                 1172538 non-null  float32\n",
      " 13  open_il_12m                 1172538 non-null  float32\n",
      " 14  open_il_24m                 1172538 non-null  float32\n",
      " 15  mths_since_rcnt_il          1172538 non-null  float32\n",
      " 16  total_bal_il                1172538 non-null  float32\n",
      " 17  open_rv_12m                 1172538 non-null  float32\n",
      " 18  open_rv_24m                 1172538 non-null  float32\n",
      " 19  max_bal_bc                  1172538 non-null  float32\n",
      " 20  all_util                    1172538 non-null  float32\n",
      " 21  inq_fi                      1172538 non-null  float32\n",
      " 22  total_cu_tl                 1172538 non-null  float32\n",
      " 23  inq_last_12m                1172538 non-null  float32\n",
      " 24  avg_cur_bal                 1172538 non-null  float32\n",
      " 25  chargeoff_within_12_mths    1172538 non-null  int32  \n",
      " 26  mo_sin_old_rev_tl_op        1172538 non-null  float32\n",
      " 27  mo_sin_rcnt_rev_tl_op       1172538 non-null  float32\n",
      " 28  mo_sin_rcnt_tl              1172538 non-null  float32\n",
      " 29  num_accts_ever_120_pd       1172538 non-null  object \n",
      " 30  num_actv_bc_tl              1172538 non-null  float32\n",
      " 31  num_actv_rev_tl             1172538 non-null  float32\n",
      " 32  num_bc_sats                 1172538 non-null  float32\n",
      " 33  num_bc_tl                   1172538 non-null  float32\n",
      " 34  num_il_tl                   1172538 non-null  float32\n",
      " 35  num_op_rev_tl               1172538 non-null  float32\n",
      " 36  num_rev_accts               1172538 non-null  float32\n",
      " 37  num_rev_tl_bal_gt_0         1172538 non-null  float32\n",
      " 38  num_sats                    1172538 non-null  float32\n",
      " 39  num_tl_120dpd_2m            1172538 non-null  int32  \n",
      " 40  num_tl_30dpd                1172538 non-null  int32  \n",
      " 41  num_tl_90g_dpd_24m          1172538 non-null  float32\n",
      " 42  num_tl_op_past_12m          1172538 non-null  float32\n",
      " 43  pct_tl_nvr_dlq              1172538 non-null  float32\n",
      " 44  pub_rec_bankruptcies        1172538 non-null  int32  \n",
      " 45  tax_liens                   1172538 non-null  float32\n",
      " 46  tot_hi_cred_lim             1172538 non-null  float32\n",
      " 47  total_il_high_credit_limit  1172538 non-null  float32\n",
      " 48  disbursement_method         1172538 non-null  object \n",
      " 49  is_risky                    1172538 non-null  int32  \n",
      "dtypes: float32(38), int32(5), object(7)\n",
      "memory usage: 255.0+ MB\n"
     ]
    }
   ],
   "source": [
    "dataframe.info()"
   ]
  },
  {
   "cell_type": "code",
   "execution_count": 51,
   "metadata": {},
   "outputs": [],
   "source": [
    "from sklearn.model_selection import train_test_split\n",
    "from sklearn.preprocessing import LabelEncoder\n",
    "from keras.utils import to_categorical\n",
    "LE = LabelEncoder()\n",
    "train_features = [\n",
    "#     \"chargeoff_within_12_mths\",\n",
    "     \"num_tl_120dpd_2m\",\n",
    "     \"loan_amnt\",\n",
    "#     \"num_tl_30dpd\",\n",
    "#     \"pub_rec_bankruptcies\",\n",
    "#     \"all_util\",\n",
    "     \"avg_cur_bal\",\n",
    "#     \"collections_12_mths_ex_med\",\n",
    "     \"dti\",\n",
    "#     \"inq_fi\",\n",
    "#     \"inq_last_12m\",\n",
    "     \"installment\",\n",
    "#     \"max_bal_bc\",\n",
    "#     \"mo_sin_old_rev_tl_op\",\n",
    "#     \"mo_sin_rcnt_rev_tl_op\",\n",
    "#     \"mo_sin_rcnt_tl\",\n",
    "#     \"mths_since_rcnt_il\",\n",
    "#     \"num_accts_ever_120_pd\",\n",
    "#     \"num_actv_bc_tl\",\n",
    "#     \"num_actv_rev_tl\",\n",
    "#     \"num_bc_sats\",\n",
    "#     \"num_bc_tl\",\n",
    "#     \"num_il_tl\",\n",
    "#     \"num_op_rev_tl\",\n",
    "#     \"num_rev_accts\",\n",
    "#     \"num_rev_tl_bal_gt_0\",\n",
    "#     \"num_sats\",\n",
    "#     \"num_tl_90g_dpd_24m\",\n",
    "#     \"num_tl_op_past_12m\",\n",
    "#     \"open_acc_6m\",\n",
    "#     \"open_act_il\",\n",
    "#     \"open_il_12m\",\n",
    "#     \"open_il_24m\",\n",
    "#     \"open_rv_12m\",\n",
    "#     \"open_rv_24m\",\n",
    "#     \"pct_tl_nvr_dlq\",\n",
    "#     \"tax_liens\",\n",
    "#     \"tot_coll_amt\",\n",
    "#     \"tot_cur_bal\",\n",
    "#     \"tot_hi_cred_lim\",\n",
    "#     \"total_bal_il\",\n",
    "#     \"total_cu_tl\",\n",
    "#     \"total_il_high_credit_limit\",\n",
    "    \"application_type\",\n",
    "    \"purpose\",\n",
    "    \"term\"\n",
    "]\n",
    "\n",
    "X = dataframe[train_features].copy()\n",
    "\n",
    "X['application_type'] = LE.fit_transform(X['application_type'])\n",
    "X['purpose'] = LE.fit_transform(X['purpose'])\n",
    "X['term'] = LE.fit_transform(X['term'])\n",
    "\n",
    "y = to_categorical(dataframe[\"is_risky\"])\n",
    "\n",
    "X_train, X_test, y_train, y_test = train_test_split(X, y, test_size=0.2)"
   ]
  },
  {
   "cell_type": "code",
   "execution_count": 52,
   "metadata": {},
   "outputs": [
    {
     "name": "stdout",
     "output_type": "stream",
     "text": [
      "_________________________________________________________________\n",
      "Layer (type)                 Output Shape              Param #   \n",
      "=================================================================\n",
      "dense_11 (Dense)             (None, 32)                288       \n",
      "_________________________________________________________________\n",
      "dropout_4 (Dropout)          (None, 32)                0         \n",
      "_________________________________________________________________\n",
      "dense_12 (Dense)             (None, 15)                495       \n",
      "_________________________________________________________________\n",
      "dense_13 (Dense)             (None, 2)                 32        \n",
      "=================================================================\n",
      "Total params: 815\n",
      "Trainable params: 815\n",
      "Non-trainable params: 0\n",
      "_________________________________________________________________\n"
     ]
    }
   ],
   "source": [
    "#6. Definir la arquitectura del modelo\n",
    "\n",
    "from keras.models import Sequential\n",
    "from keras.layers import Dense, Dropout\n",
    "\n",
    "# definir el modelo\n",
    "model = Sequential()\n",
    "model.add(Dense(32, input_shape=(X.shape[1],), activation=\"relu\"))\n",
    "model.add(Dropout(0.5))\n",
    "model.add(Dense(15, activation='relu'))\n",
    "model.add(Dense(2, activation='sigmoid'))\n",
    "\n",
    "# resumen del modelo\n",
    "model.summary()"
   ]
  },
  {
   "cell_type": "code",
   "execution_count": 53,
   "metadata": {},
   "outputs": [],
   "source": [
    "model.compile(\"adam\", \"binary_crossentropy\", metrics=[\"accuracy\"])"
   ]
  },
  {
   "cell_type": "code",
   "execution_count": 54,
   "metadata": {},
   "outputs": [],
   "source": [
    "keras.utils.plot_model(model,to_file=\"model_plaidml.png\", show_shapes=True, rankdir=\"LR\")"
   ]
  },
  {
   "cell_type": "code",
   "execution_count": 55,
   "metadata": {},
   "outputs": [
    {
     "name": "stdout",
     "output_type": "stream",
     "text": [
      "Precisión en el conjunto de prueba: 47.5321%\n"
     ]
    }
   ],
   "source": [
    "# 8. Calcular la precisión del clasificador en el conjunto de pruebas (antes de entrenamiento)\n",
    "# evaluar la precisión en el conjunto de prueba\n",
    "score = model.evaluate(X_test, y_test, verbose=2)\n",
    "accuracy = 100*score[1]\n",
    "\n",
    "# mostrar la precisión del conjunto de prueba\n",
    "print('Precisión en el conjunto de prueba: %.4f%%' % accuracy)"
   ]
  },
  {
   "cell_type": "code",
   "execution_count": null,
   "metadata": {},
   "outputs": [
    {
     "name": "stdout",
     "output_type": "stream",
     "text": [
      "Train on 750424 samples, validate on 187606 samples\n",
      "Epoch 1/50\n",
      "110700/750424 [===>..........................] - ETA: 1:33 - loss: 7.7445 - acc: 0.5164"
     ]
    }
   ],
   "source": [
    "from keras.callbacks import ModelCheckpoint\n",
    "checkpointer = ModelCheckpoint(filepath='ia-plaidml.model.best.hdf5', verbose=1, save_best_only=True)\n",
    "model.fit(X_train,y_train, epochs=50,batch_size=30,validation_split=0.2, callbacks=[checkpointer], verbose=1, shuffle=True)"
   ]
  },
  {
   "cell_type": "code",
   "execution_count": null,
   "metadata": {},
   "outputs": [],
   "source": [
    "# 10. Cargar el modelo con la mejor precisión de clasificación en el conjunto de validación\n",
    "\n",
    "# Cargar los pesos (parámetros) que produjeron la mejor precisión en validación\n",
    "model.load_weights('ia-plaidml.model.best.hdf5')"
   ]
  },
  {
   "cell_type": "code",
   "execution_count": null,
   "metadata": {},
   "outputs": [],
   "source": [
    "# 11. Calcular la precisión en clasificación en el conjunto de prueba\n",
    "\n",
    "score = model.evaluate(X_test, y_test, verbose=1)\n",
    "accuracy = 100*score[1]"
   ]
  },
  {
   "cell_type": "code",
   "execution_count": null,
   "metadata": {},
   "outputs": [],
   "source": [
    "# mostrar la precisión en prubea\n",
    "print('Precisión durante la prueba: %.4f%%' % accuracy)"
   ]
  },
  {
   "cell_type": "code",
   "execution_count": null,
   "metadata": {},
   "outputs": [],
   "source": []
  },
  {
   "cell_type": "code",
   "execution_count": null,
   "metadata": {},
   "outputs": [],
   "source": [
    "from sklearn.model_selection import train_test_split\n",
    "from sklearn.preprocessing import LabelEncoder\n",
    "from keras.utils import to_categorical\n",
    "LE = LabelEncoder()\n",
    "train_features = [\n",
    "#     \"chargeoff_within_12_mths\",\n",
    "     \"num_tl_120dpd_2m\",\n",
    "     \"loan_amnt\",\n",
    "#     \"num_tl_30dpd\",\n",
    "#     \"pub_rec_bankruptcies\",\n",
    "#     \"all_util\",\n",
    "     \"avg_cur_bal\",\n",
    "#     \"collections_12_mths_ex_med\",\n",
    "     \"dti\",\n",
    "#     \"inq_fi\",\n",
    "#     \"inq_last_12m\",\n",
    "     \"installment\",\n",
    "#     \"max_bal_bc\",\n",
    "#     \"mo_sin_old_rev_tl_op\",\n",
    "#     \"mo_sin_rcnt_rev_tl_op\",\n",
    "#     \"mo_sin_rcnt_tl\",\n",
    "#     \"mths_since_rcnt_il\",\n",
    "#     \"num_accts_ever_120_pd\",\n",
    "#     \"num_actv_bc_tl\",\n",
    "#     \"num_actv_rev_tl\",\n",
    "#     \"num_bc_sats\",\n",
    "#     \"num_bc_tl\",\n",
    "#     \"num_il_tl\",\n",
    "#     \"num_op_rev_tl\",\n",
    "#     \"num_rev_accts\",\n",
    "#     \"num_rev_tl_bal_gt_0\",\n",
    "#     \"num_sats\",\n",
    "#     \"num_tl_90g_dpd_24m\",\n",
    "#     \"num_tl_op_past_12m\",\n",
    "#     \"open_acc_6m\",\n",
    "#     \"open_act_il\",\n",
    "#     \"open_il_12m\",\n",
    "#     \"open_il_24m\",\n",
    "#     \"open_rv_12m\",\n",
    "#     \"open_rv_24m\",\n",
    "#     \"pct_tl_nvr_dlq\",\n",
    "#     \"tax_liens\",\n",
    "#     \"tot_coll_amt\",\n",
    "#     \"tot_cur_bal\",\n",
    "#     \"tot_hi_cred_lim\",\n",
    "#     \"total_bal_il\",\n",
    "#     \"total_cu_tl\",\n",
    "#     \"total_il_high_credit_limit\",\n",
    "    \"application_type\",\n",
    "    \"purpose\",\n",
    "    \"term\"\n",
    "]\n",
    "\n",
    "X = dataframe[train_features].copy()\n",
    "\n",
    "X['application_type'] = LE.fit_transform(X['application_type'])\n",
    "X['purpose'] = LE.fit_transform(X['purpose'])\n",
    "X['term'] = LE.fit_transform(X['term'])\n",
    "\n",
    "y = to_categorical(dataframe[\"is_risky\"])\n",
    "\n",
    "X_train, X_test, y_train, y_test = train_test_split(X, y, test_size=0.2)"
   ]
  },
  {
   "cell_type": "code",
   "execution_count": null,
   "metadata": {},
   "outputs": [],
   "source": [
    "#6. Definir la arquitectura del modelo\n",
    "\n",
    "from keras.models import Sequential\n",
    "from keras.layers import Dense, Dropout\n",
    "\n",
    "# definir el modelo\n",
    "model = Sequential()\n",
    "model.add(Dense(100, input_shape=(X.shape[1],), activation=\"relu\"))\n",
    "model.add(Dropout(0.3))\n",
    "model.add(Dense(65, activation='relu'))\n",
    "model.add(Dense(2, activation='sigmoid'))\n",
    "\n",
    "# resumen del modelo\n",
    "model.summary()"
   ]
  },
  {
   "cell_type": "code",
   "execution_count": null,
   "metadata": {},
   "outputs": [],
   "source": [
    "model.compile(\"adam\", \"binary_crossentropy\", metrics=[\"accuracy\"])"
   ]
  },
  {
   "cell_type": "code",
   "execution_count": null,
   "metadata": {},
   "outputs": [],
   "source": [
    "keras.utils.plot_model(model,to_file=\"model_plaidml2.png\", show_shapes=True, rankdir=\"LR\")"
   ]
  },
  {
   "cell_type": "code",
   "execution_count": null,
   "metadata": {},
   "outputs": [],
   "source": [
    "# 8. Calcular la precisión del clasificador en el conjunto de pruebas (antes de entrenamiento)\n",
    "# evaluar la precisión en el conjunto de prueba\n",
    "score = model.evaluate(X_test, y_test, verbose=2)\n",
    "accuracy = 100*score[1]\n",
    "\n",
    "# mostrar la precisión del conjunto de prueba\n",
    "print('Precisión en el conjunto de prueba: %.4f%%' % accuracy)"
   ]
  },
  {
   "cell_type": "code",
   "execution_count": null,
   "metadata": {},
   "outputs": [],
   "source": [
    "from keras.callbacks import ModelCheckpoint\n",
    "checkpointer = ModelCheckpoint(filepath='ia-plaidml2.model.best.hdf5', verbose=1, save_best_only=True)\n",
    "model.fit(X_train,y_train, epochs=30,batch_size=30,validation_split=0.2, callbacks=[checkpointer], verbose=1, shuffle=True)"
   ]
  },
  {
   "cell_type": "code",
   "execution_count": null,
   "metadata": {},
   "outputs": [],
   "source": [
    "# 10. Cargar el modelo con la mejor precisión de clasificación en el conjunto de validación\n",
    "\n",
    "# Cargar los pesos (parámetros) que produjeron la mejor precisión en validación\n",
    "model.load_weights('ia-plaidml2.model.best.hdf5')"
   ]
  },
  {
   "cell_type": "code",
   "execution_count": null,
   "metadata": {},
   "outputs": [],
   "source": [
    "# 11. Calcular la precisión en clasificación en el conjunto de prueba\n",
    "\n",
    "score = model.evaluate(X_test, y_test, verbose=1)\n",
    "accuracy = 100*score[1]"
   ]
  },
  {
   "cell_type": "code",
   "execution_count": null,
   "metadata": {},
   "outputs": [],
   "source": [
    "# mostrar la precisión en prubea\n",
    "print('Precisión durante la prueba: %.4f%%' % accuracy)"
   ]
  },
  {
   "cell_type": "code",
   "execution_count": null,
   "metadata": {},
   "outputs": [],
   "source": [
    "from sklearn.model_selection import train_test_split\n",
    "from sklearn.preprocessing import LabelEncoder\n",
    "from keras.utils import to_categorical\n",
    "LE = LabelEncoder()\n",
    "train_features = [\n",
    "#     \"chargeoff_within_12_mths\",\n",
    "     \"num_tl_120dpd_2m\",\n",
    "     \"loan_amnt\",\n",
    "#     \"num_tl_30dpd\",\n",
    "#     \"pub_rec_bankruptcies\",\n",
    "#     \"all_util\",\n",
    "     \"avg_cur_bal\",\n",
    "#     \"collections_12_mths_ex_med\",\n",
    "     \"dti\",\n",
    "#     \"inq_fi\",\n",
    "#     \"inq_last_12m\",\n",
    "     \"installment\",\n",
    "#     \"max_bal_bc\",\n",
    "#     \"mo_sin_old_rev_tl_op\",\n",
    "#     \"mo_sin_rcnt_rev_tl_op\",\n",
    "#     \"mo_sin_rcnt_tl\",\n",
    "#     \"mths_since_rcnt_il\",\n",
    "#     \"num_accts_ever_120_pd\",\n",
    "#     \"num_actv_bc_tl\",\n",
    "#     \"num_actv_rev_tl\",\n",
    "#     \"num_bc_sats\",\n",
    "#     \"num_bc_tl\",\n",
    "     \"num_il_tl\",\n",
    "#     \"num_op_rev_tl\",\n",
    "#     \"num_rev_accts\",\n",
    "#     \"num_rev_tl_bal_gt_0\",\n",
    "     \"num_sats\",\n",
    "#     \"num_tl_90g_dpd_24m\",\n",
    "#     \"num_tl_op_past_12m\",\n",
    "#     \"open_acc_6m\",\n",
    "#     \"open_act_il\",\n",
    "#     \"open_il_12m\",\n",
    "#     \"open_il_24m\",\n",
    "#     \"open_rv_12m\",\n",
    "#     \"open_rv_24m\",\n",
    "#     \"pct_tl_nvr_dlq\",\n",
    "#     \"tax_liens\",\n",
    "#     \"tot_coll_amt\",\n",
    "#     \"tot_cur_bal\",\n",
    "#     \"tot_hi_cred_lim\",\n",
    "#     \"total_bal_il\",\n",
    "#     \"total_cu_tl\",\n",
    "#     \"total_il_high_credit_limit\",\n",
    "    \"application_type\",\n",
    "    \"purpose\",\n",
    "    \"term\"\n",
    "]\n",
    "\n",
    "X = dataframe[train_features].copy()\n",
    "\n",
    "X['application_type'] = LE.fit_transform(X['application_type'])\n",
    "X['purpose'] = LE.fit_transform(X['purpose'])\n",
    "X['term'] = LE.fit_transform(X['term'])\n",
    "\n",
    "y = to_categorical(dataframe[\"is_risky\"])\n",
    "\n",
    "X_train, X_test, y_train, y_test = train_test_split(X, y, test_size=0.2)"
   ]
  },
  {
   "cell_type": "code",
   "execution_count": null,
   "metadata": {},
   "outputs": [],
   "source": [
    "#6. Definir la arquitectura del modelo\n",
    "\n",
    "from keras.models import Sequential\n",
    "from keras.layers import Dense, Dropout\n",
    "\n",
    "# definir el modelo\n",
    "model = Sequential()\n",
    "model.add(Dense(100, input_shape=(X.shape[1],), activation=\"relu\"))\n",
    "model.add(Dropout(0.3))\n",
    "model.add(Dense(65, activation='relu'))\n",
    "model.add(Dense(2, activation='sigmoid'))\n",
    "\n",
    "# resumen del modelo\n",
    "model.summary()"
   ]
  },
  {
   "cell_type": "code",
   "execution_count": null,
   "metadata": {},
   "outputs": [],
   "source": [
    "model.compile(\"adam\", \"binary_crossentropy\", metrics=[\"accuracy\"])"
   ]
  },
  {
   "cell_type": "code",
   "execution_count": null,
   "metadata": {},
   "outputs": [],
   "source": [
    "keras.utils.plot_model(model,to_file=\"model_plaidml3.png\", show_shapes=True, rankdir=\"LR\")"
   ]
  },
  {
   "cell_type": "code",
   "execution_count": null,
   "metadata": {},
   "outputs": [],
   "source": [
    "# 8. Calcular la precisión del clasificador en el conjunto de pruebas (antes de entrenamiento)\n",
    "# evaluar la precisión en el conjunto de prueba\n",
    "score = model.evaluate(X_test, y_test, verbose=2)\n",
    "accuracy = 100*score[1]\n",
    "\n",
    "# mostrar la precisión del conjunto de prueba\n",
    "print('Precisión en el conjunto de prueba: %.4f%%' % accuracy)"
   ]
  },
  {
   "cell_type": "code",
   "execution_count": null,
   "metadata": {},
   "outputs": [],
   "source": [
    "from keras.callbacks import ModelCheckpoint\n",
    "checkpointer = ModelCheckpoint(filepath='ia-plaidml3.model.best.hdf5', verbose=1, save_best_only=True)\n",
    "model.fit(X_train,y_train, epochs=50,batch_size=30,validation_split=0.2, callbacks=[checkpointer], verbose=1, shuffle=True)"
   ]
  },
  {
   "cell_type": "code",
   "execution_count": null,
   "metadata": {},
   "outputs": [],
   "source": [
    "# 10. Cargar el modelo con la mejor precisión de clasificación en el conjunto de validación\n",
    "\n",
    "# Cargar los pesos (parámetros) que produjeron la mejor precisión en validación\n",
    "model.load_weights('ia-plaidml3.model.best.hdf5')"
   ]
  },
  {
   "cell_type": "code",
   "execution_count": null,
   "metadata": {},
   "outputs": [],
   "source": [
    "# 11. Calcular la precisión en clasificación en el conjunto de prueba\n",
    "\n",
    "score = model.evaluate(X_test, y_test, verbose=1)\n",
    "accuracy = 100*score[1]"
   ]
  },
  {
   "cell_type": "code",
   "execution_count": null,
   "metadata": {},
   "outputs": [],
   "source": [
    "# mostrar la precisión en prubea\n",
    "print('Precisión durante la prueba: %.4f%%' % accuracy)"
   ]
  }
 ],
 "metadata": {
  "kernelspec": {
   "display_name": "ia",
   "language": "python",
   "name": "ia"
  },
  "language_info": {
   "codemirror_mode": {
    "name": "ipython",
    "version": 3
   },
   "file_extension": ".py",
   "mimetype": "text/x-python",
   "name": "python",
   "nbconvert_exporter": "python",
   "pygments_lexer": "ipython3",
   "version": "3.8.5"
  }
 },
 "nbformat": 4,
 "nbformat_minor": 4
}
